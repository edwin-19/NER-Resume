{
 "cells": [
  {
   "cell_type": "code",
   "execution_count": 11,
   "id": "nominated-heavy",
   "metadata": {},
   "outputs": [],
   "source": [
    "import pandas as pd\n",
    "import orjson as json\n",
    "import seaborn as sns\n",
    "from matplotlib import pyplot as plt\n",
    "import re\n",
    "\n",
    "import spacy\n",
    "from spacy.training import biluo_tags_to_offsets"
   ]
  },
  {
   "cell_type": "code",
   "execution_count": null,
   "id": "medium-undergraduate",
   "metadata": {},
   "outputs": [],
   "source": [
    "with open('data/Entity Recognition in Resumes.json', 'r') as json_file:\n",
    "    lines = json_file.readlines()"
   ]
  },
  {
   "cell_type": "code",
   "execution_count": null,
   "id": "worth-intervention",
   "metadata": {},
   "outputs": [],
   "source": [
    "data = [json.loads(line) for line in lines]"
   ]
  },
  {
   "cell_type": "code",
   "execution_count": null,
   "id": "spread-eleven",
   "metadata": {},
   "outputs": [],
   "source": [
    "df = pd.DataFrame([d for d in data])"
   ]
  },
  {
   "cell_type": "code",
   "execution_count": null,
   "id": "sunset-smile",
   "metadata": {},
   "outputs": [],
   "source": [
    "df = df.drop('extras', axis=1)"
   ]
  },
  {
   "cell_type": "code",
   "execution_count": null,
   "id": "closed-vision",
   "metadata": {},
   "outputs": [],
   "source": [
    "def clean_text(x):\n",
    "    x = re.sub('[^A-Za-z0-9]+', ' ', x)    \n",
    "    return x.lower().strip()\n",
    "\n",
    "df['content'] = df['content'].apply(clean_text)\n",
    "df['text_len'] = df['content'].apply(lambda x: len(x))"
   ]
  },
  {
   "cell_type": "code",
   "execution_count": null,
   "id": "bright-wrist",
   "metadata": {},
   "outputs": [],
   "source": [
    "data[-1]['annotation']"
   ]
  }
 ],
 "metadata": {
  "kernelspec": {
   "display_name": "Python 3",
   "language": "python",
   "name": "python3"
  },
  "language_info": {
   "codemirror_mode": {
    "name": "ipython",
    "version": 3
   },
   "file_extension": ".py",
   "mimetype": "text/x-python",
   "name": "python",
   "nbconvert_exporter": "python",
   "pygments_lexer": "ipython3",
   "version": "3.8.8"
  }
 },
 "nbformat": 4,
 "nbformat_minor": 5
}
